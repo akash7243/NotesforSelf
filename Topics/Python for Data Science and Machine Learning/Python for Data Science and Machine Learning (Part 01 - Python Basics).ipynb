{
 "cells": [
  {
   "cell_type": "markdown",
   "metadata": {},
   "source": [
    "# Environmental Setup\n",
    "    \n",
    "Install Python 3.\n",
    "Basic environmental setup includes installation of Anaconda Distribution inclusive of Jupyter. \n",
    "There maybe a requirement to setup virtual environments for testing new versions of libraries in case you have developed a \n",
    "working code on the older version and don't want the code to break when using the new version. Use Virtualenv library for \n",
    "that in case of normal Python distributions, Anaconda has a built-in virtual environment manager as well."
   ]
  },
  {
   "cell_type": "markdown",
   "metadata": {},
   "source": [
    "# Creating Virtual Environment in Anaconda\n",
    "\n",
    "    Just read the official documentation for that."
   ]
  },
  {
   "cell_type": "markdown",
   "metadata": {},
   "source": [
    "# Python basics I haven't learned before or have forgotten or need to be reviewed\n",
    "\n",
    "    A simple review."
   ]
  },
  {
   "cell_type": "code",
   "execution_count": 1,
   "metadata": {},
   "outputs": [
    {
     "data": {
      "text/plain": [
       "'My name is Akash and my number is 7'"
      ]
     },
     "execution_count": 1,
     "metadata": {},
     "output_type": "execute_result"
    }
   ],
   "source": [
    "#formatting \n",
    "\n",
    "name = \"Akash\"\n",
    "num = 7\n",
    "\"My name is {} and my number is {}\".format(name,num)"
   ]
  },
  {
   "cell_type": "code",
   "execution_count": 2,
   "metadata": {},
   "outputs": [
    {
     "name": "stdout",
     "output_type": "stream",
     "text": [
      "My name is Akash and my number is 7\n"
     ]
    }
   ],
   "source": [
    "#more formatting\n",
    "\n",
    "print(\"My name is {} and my number is {}\".format(name,num))"
   ]
  },
  {
   "cell_type": "code",
   "execution_count": 9,
   "metadata": {},
   "outputs": [
    {
     "name": "stdout",
     "output_type": "stream",
     "text": [
      "My name is Akash and my number is 7. Did you know my name was Akash?\n"
     ]
    }
   ],
   "source": [
    "#yet more instances of formatting, notice how you can use assign a keyword or new name to the variable making it easier to be mentioned again.\n",
    "#You don't have to worry about the order of the curly brackets either.\n",
    "\n",
    "print(\"My name is {kwname} and my number is {kwnum}. Did you know my name was {kwname}?\".format(kwname=name,kwnum=num))"
   ]
  },
  {
   "cell_type": "markdown",
   "metadata": {},
   "source": [
    "## String Indexing\n",
    "\n",
    "    Indexing in Python starts at 0. A code which displays the properties of indexing is shown below."
   ]
  },
  {
   "cell_type": "code",
   "execution_count": 15,
   "metadata": {},
   "outputs": [
    {
     "name": "stdout",
     "output_type": "stream",
     "text": [
      "Violet Evergarden\n",
      "Violet Evergarden\n",
      "Viol\n",
      "et Evergarden\n",
      "nedragrevE teloiV\n",
      "Voe vradn\n",
      "nedragrevE\n"
     ]
    }
   ],
   "source": [
    "str = \"Violet Evergarden\"\n",
    "print(str[0:])\n",
    "print(str[:])\n",
    "print(str[:4]) #Notice how the string was printed only till the third index which means the string indexing only considers the elements upto the mentioned index, itself being excluded.\n",
    "print(str[4:])\n",
    "print(str[::-1]) #the third number in this function is the step you take from the beginning to the end of the specified index range.\n",
    "print(str[::2])\n",
    "print(str[:6:-1])"
   ]
  },
  {
   "cell_type": "markdown",
   "metadata": {},
   "source": [
    "## Lists\n",
    "\n",
    "    A recap for lists. Lists can contain any datatype of your choice, example shown below."
   ]
  },
  {
   "cell_type": "code",
   "execution_count": 2,
   "metadata": {},
   "outputs": [
    {
     "name": "stdout",
     "output_type": "stream",
     "text": [
      "['a', 4, 'python']\n"
     ]
    }
   ],
   "source": [
    "#lists are mutable and are enclosed in square brackets with a comma between each element of the list.\n",
    "\n",
    "my_list = ['a', 4, 'python']\n",
    "print(my_list)"
   ]
  },
  {
   "cell_type": "code",
   "execution_count": 3,
   "metadata": {},
   "outputs": [
    {
     "name": "stdout",
     "output_type": "stream",
     "text": [
      "['a', 4, 'python', 'Mario']\n"
     ]
    }
   ],
   "source": [
    "#a few features for lists are illustrated below\n",
    "\n",
    "my_list.append('Mario')\n",
    "print(my_list)"
   ]
  },
  {
   "cell_type": "code",
   "execution_count": 4,
   "metadata": {},
   "outputs": [
    {
     "data": {
      "text/plain": [
       "'Mario'"
      ]
     },
     "execution_count": 4,
     "metadata": {},
     "output_type": "execute_result"
    }
   ],
   "source": [
    "my_list[3] #a list follows the same logic for indexing as a string does, therefore all the rules shown above follow here as well."
   ]
  },
  {
   "cell_type": "code",
   "execution_count": 6,
   "metadata": {},
   "outputs": [
    {
     "data": {
      "text/plain": [
       "['a', 4, 'python', 'Luigi']"
      ]
     },
     "execution_count": 6,
     "metadata": {},
     "output_type": "execute_result"
    }
   ],
   "source": [
    "my_list[3] = 'Luigi' #changing an existing element to an element of your choice\n",
    "my_list"
   ]
  },
  {
   "cell_type": "code",
   "execution_count": 9,
   "metadata": {},
   "outputs": [
    {
     "data": {
      "text/plain": [
       "2"
      ]
     },
     "execution_count": 9,
     "metadata": {},
     "output_type": "execute_result"
    }
   ],
   "source": [
    "#an example for nested list and how to grab an element from the list inside the list.\n",
    "\n",
    "nest_list = [0,1,[2,3]]\n",
    "nest_list[2][0] #another indexing can be chained to grab the element in the selected list."
   ]
  },
  {
   "cell_type": "markdown",
   "metadata": {},
   "source": [
    "## Tuples\n",
    "\n",
    "Tuples are identical to lists but are immutable unlike them, which simply means that you can't modify or change the elements inside the tuple like you can in lists. Tuples are created with (). The indexing functionalilty remains the same as in the case of lists. "
   ]
  },
  {
   "cell_type": "code",
   "execution_count": 11,
   "metadata": {},
   "outputs": [
    {
     "data": {
      "text/plain": [
       "('hello', 'I am a tuple', 'My id number is', '0')"
      ]
     },
     "execution_count": 11,
     "metadata": {},
     "output_type": "execute_result"
    }
   ],
   "source": [
    "tup = ('hello', 'I am a tuple', 'My id number is', '0')\n",
    "tup"
   ]
  },
  {
   "cell_type": "markdown",
   "metadata": {},
   "source": [
    "## What is a Dictionary?\n",
    "\n",
    "Dictionaries are indexed with the help of keys as opposed to lists which simply use the range of indices along which they are defined. The keys can be of any immutable type, a string, a number or a tuple. Tuple can be used as a key as long as it has no mutable objects directly or indirectly inside it. Lists, since they are immutable cannot be used as keys. Dictionaries are key : value pairs where the keys are unique to the dictionary itself. Curly braces {} are used to create a dictionary and the key : value pairs are separated using a comma. The code is shown below along with a few operations and properties which you can apply in dictionaries. "
   ]
  },
  {
   "cell_type": "code",
   "execution_count": 8,
   "metadata": {},
   "outputs": [
    {
     "data": {
      "text/plain": [
       "1"
      ]
     },
     "execution_count": 8,
     "metadata": {},
     "output_type": "execute_result"
    }
   ],
   "source": [
    "dict = {'key1': 8, 'key2' : 'nine', 'key3':{'newkey1':[0,1,2]}}\n",
    "dict['key3']['newkey1'][1] #the indexing is done the same way except you use keys here."
   ]
  },
  {
   "cell_type": "markdown",
   "metadata": {},
   "source": [
    "## Boolean\n",
    "\n",
    "A simple True (1) and False (0)."
   ]
  },
  {
   "cell_type": "code",
   "execution_count": 25,
   "metadata": {},
   "outputs": [
    {
     "data": {
      "text/plain": [
       "False"
      ]
     },
     "execution_count": 25,
     "metadata": {},
     "output_type": "execute_result"
    }
   ],
   "source": [
    "1 > 2"
   ]
  },
  {
   "cell_type": "code",
   "execution_count": 26,
   "metadata": {},
   "outputs": [
    {
     "data": {
      "text/plain": [
       "True"
      ]
     },
     "execution_count": 26,
     "metadata": {},
     "output_type": "execute_result"
    }
   ],
   "source": [
    "2 > 1"
   ]
  },
  {
   "cell_type": "markdown",
   "metadata": {},
   "source": [
    "## Sets\n",
    "\n",
    "A set is a collection of unique elements, it can be created by using curly braces just like dictionary except here there are key : value pairs. An instance is shown below."
   ]
  },
  {
   "cell_type": "code",
   "execution_count": 27,
   "metadata": {},
   "outputs": [
    {
     "data": {
      "text/plain": [
       "{0, 1, 3, 4, 7, 8}"
      ]
     },
     "execution_count": 27,
     "metadata": {},
     "output_type": "execute_result"
    }
   ],
   "source": [
    "set = {0,4,0,7,8,1,1,1,3,3,8}\n",
    "set"
   ]
  },
  {
   "cell_type": "code",
   "execution_count": 28,
   "metadata": {},
   "outputs": [
    {
     "data": {
      "text/plain": [
       "{0, 1, 3, 4, 7, 8, 9}"
      ]
     },
     "execution_count": 28,
     "metadata": {},
     "output_type": "execute_result"
    }
   ],
   "source": [
    "set.add(9)\n",
    "set"
   ]
  },
  {
   "cell_type": "markdown",
   "metadata": {},
   "source": [
    "## If-elif-else\n",
    "\n",
    "Already know this. Skip. Just remember the indentations and the colon after the statements and the order of execution of the statements i.e., the first true statement will be executed."
   ]
  },
  {
   "cell_type": "markdown",
   "metadata": {},
   "source": [
    "## For and While Loops\n",
    "\n",
    "The examples are stated below."
   ]
  },
  {
   "cell_type": "code",
   "execution_count": 31,
   "metadata": {},
   "outputs": [
    {
     "name": "stdout",
     "output_type": "stream",
     "text": [
      "1\n",
      "hello\n",
      "2\n",
      "hello\n",
      "3\n",
      "hello\n",
      "4\n",
      "hello\n",
      "5\n",
      "hello\n"
     ]
    }
   ],
   "source": [
    "seq = [1,2,3,4,5]\n",
    "for item in seq:\n",
    "    print(item)\n",
    "    print('hello')"
   ]
  },
  {
   "cell_type": "code",
   "execution_count": 3,
   "metadata": {},
   "outputs": [
    {
     "name": "stdout",
     "output_type": "stream",
     "text": [
      "i is 1\n",
      "i is 2\n",
      "i is 3\n",
      "i is 4\n",
      "i is 5\n",
      "i is 6\n"
     ]
    }
   ],
   "source": [
    "i = 1 \n",
    "\n",
    "while (i < 7):\n",
    "    print(\"i is {}\".format(i))\n",
    "    i = i+1"
   ]
  },
  {
   "cell_type": "code",
   "execution_count": 4,
   "metadata": {},
   "outputs": [
    {
     "name": "stdout",
     "output_type": "stream",
     "text": [
      "0\n",
      "1\n",
      "2\n",
      "3\n",
      "4\n",
      "5\n",
      "6\n"
     ]
    }
   ],
   "source": [
    "#range function\n",
    "\n",
    "for num in range(0,7):\n",
    "    print(num)"
   ]
  },
  {
   "cell_type": "markdown",
   "metadata": {},
   "source": [
    "## List Comprehension\n",
    "\n",
    "A replacement to creating lists using loops"
   ]
  },
  {
   "cell_type": "code",
   "execution_count": 7,
   "metadata": {},
   "outputs": [
    {
     "name": "stdout",
     "output_type": "stream",
     "text": [
      "[8, 64, 216, 512]\n"
     ]
    }
   ],
   "source": [
    "x = [2,4,6,8] #example on how to create a list using a loop\n",
    "y= []\n",
    "for num in x:\n",
    "    y.append(num**3)\n",
    "print(y)"
   ]
  },
  {
   "cell_type": "code",
   "execution_count": 11,
   "metadata": {},
   "outputs": [
    {
     "name": "stdout",
     "output_type": "stream",
     "text": [
      "[8, 64, 216, 512]\n"
     ]
    }
   ],
   "source": [
    "#how to do the same with List Comprehension\n",
    "\n",
    "y =[num**3 for num in x]\n",
    "print(y)"
   ]
  },
  {
   "cell_type": "markdown",
   "metadata": {},
   "source": [
    "## Functions\n",
    "\n",
    "A function is a block of organized, reusable code that is used to perform a single, related action. Functions provide better modularity for your application and a high degree of code reusing.\n",
    "\n",
    "You can define functions to provide the required functionality. Here are simple rules to define a function in Python.\n",
    "\n",
    " - Function blocks begin with the keyword def followed by the function name and parentheses ( ( ) ).\n",
    "\n",
    " - Any input parameters or arguments should be placed within these parentheses. You can also define parameters inside these parentheses.\n",
    "\n",
    " - The first statement of a function can be an optional statement - the documentation string of the function or docstring.\n",
    "\n",
    " - The code block within every function starts with a colon (:) and is indented.\n",
    "\n",
    " - The statement return [expression] exits a function, optionally passing back an expression to the caller. A return statement with no arguments is the same as return None."
   ]
  },
  {
   "cell_type": "code",
   "execution_count": 2,
   "metadata": {},
   "outputs": [
    {
     "name": "stdout",
     "output_type": "stream",
     "text": [
      "12\n"
     ]
    }
   ],
   "source": [
    "#example of defining a function\n",
    "\n",
    "def sum(a,b):\n",
    "    \"\"\"\n",
    "    NICE TO MEET YOU, I AM A DOCSTRING. A MULTILINE COMMENT WITH A NEW NAME. \n",
    "    YOU CAN USE SHIFT+TAB FOR GETTING INFORMATION FOR A RESPECTIVE FUNCTION USING THE TEXT WRITTEN HERE.\n",
    "    \n",
    "    \"\"\"\n",
    "    sum = a+b\n",
    "    return sum\n",
    "\n",
    "c = sum(5,7)\n",
    "print(c)    \n",
    "    "
   ]
  },
  {
   "cell_type": "code",
   "execution_count": 1,
   "metadata": {},
   "outputs": [
    {
     "name": "stdout",
     "output_type": "stream",
     "text": [
      "Hello\n",
      "default name\n",
      "Hello\n",
      "Akash\n"
     ]
    }
   ],
   "source": [
    "#assigning a default value\n",
    "\n",
    "def namefunc(name = \"default name\"):\n",
    "    print(\"Hello\\n\"+ name)\n",
    "\n",
    "namefunc()\n",
    "namefunc(\"Akash\")"
   ]
  },
  {
   "cell_type": "markdown",
   "metadata": {},
   "source": [
    "### map() function\n",
    "\n",
    "    Discussed below."
   ]
  },
  {
   "cell_type": "code",
   "execution_count": 6,
   "metadata": {},
   "outputs": [
    {
     "data": {
      "text/plain": [
       "[2, 4, 6, 8, 10, 12, 12, 14]"
      ]
     },
     "execution_count": 6,
     "metadata": {},
     "output_type": "execute_result"
    }
   ],
   "source": [
    "#map() creates an iterator that computes the function using argument from each of the iterables.\n",
    "def twice(num):\n",
    "    return num*2\n",
    "sequence = [1,2,3,4,5,6,6,7]\n",
    "list(map(twice,sequence))\n",
    "\n"
   ]
  },
  {
   "cell_type": "markdown",
   "metadata": {},
   "source": [
    "## Lambda Expression\n",
    "\n",
    "Can be used to eradicate the need to use *def* and *return* keywords among other uses to create an anonymous function."
   ]
  },
  {
   "cell_type": "code",
   "execution_count": 7,
   "metadata": {},
   "outputs": [
    {
     "data": {
      "text/plain": [
       "38"
      ]
     },
     "execution_count": 7,
     "metadata": {},
     "output_type": "execute_result"
    }
   ],
   "source": [
    "lam = lambda num: num*2\n",
    "lam(19)"
   ]
  },
  {
   "cell_type": "code",
   "execution_count": 8,
   "metadata": {},
   "outputs": [
    {
     "data": {
      "text/plain": [
       "[1, 4, 9, 16, 25, 36, 36, 49]"
      ]
     },
     "execution_count": 8,
     "metadata": {},
     "output_type": "execute_result"
    }
   ],
   "source": [
    "list(map(lambda num:num**2, sequence))"
   ]
  },
  {
   "cell_type": "markdown",
   "metadata": {},
   "source": [
    "### filter()\n",
    "\n",
    "Discussed below."
   ]
  },
  {
   "cell_type": "code",
   "execution_count": 11,
   "metadata": {},
   "outputs": [
    {
     "data": {
      "text/plain": [
       "[2, 4, 6, 6]"
      ]
     },
     "execution_count": 11,
     "metadata": {},
     "output_type": "execute_result"
    }
   ],
   "source": [
    "list(filter(lambda num:num%2==0, sequence))"
   ]
  },
  {
   "cell_type": "markdown",
   "metadata": {},
   "source": [
    "## Methods\n",
    "\n",
    "Just press tab after typing a period."
   ]
  },
  {
   "cell_type": "code",
   "execution_count": 20,
   "metadata": {},
   "outputs": [
    {
     "data": {
      "text/plain": [
       "['You', 'shall', 'not', 'pass!']"
      ]
     },
     "execution_count": 20,
     "metadata": {},
     "output_type": "execute_result"
    }
   ],
   "source": [
    "sent = \"You shall not pass!\"\n",
    "sent.split(' ') #pass anything you want where you have to split the string. "
   ]
  },
  {
   "cell_type": "markdown",
   "metadata": {},
   "source": [
    "### Extras"
   ]
  },
  {
   "cell_type": "code",
   "execution_count": 24,
   "metadata": {},
   "outputs": [
    {
     "name": "stdout",
     "output_type": "stream",
     "text": [
      "3\n",
      "[0, 1, 2, 4, 5]\n"
     ]
    }
   ],
   "source": [
    "mylist = [0,1,2,3,4,5]\n",
    "t = mylist.pop(3) #by default pop pops the element at the end of the list but you can also give index values as well.\n",
    "print(t)\n",
    "print(mylist)"
   ]
  },
  {
   "cell_type": "code",
   "execution_count": 25,
   "metadata": {},
   "outputs": [
    {
     "data": {
      "text/plain": [
       "False"
      ]
     },
     "execution_count": 25,
     "metadata": {},
     "output_type": "execute_result"
    }
   ],
   "source": [
    "# in operator\n",
    "\n",
    "'x' in mylist"
   ]
  },
  {
   "cell_type": "code",
   "execution_count": 26,
   "metadata": {},
   "outputs": [
    {
     "data": {
      "text/plain": [
       "True"
      ]
     },
     "execution_count": 26,
     "metadata": {},
     "output_type": "execute_result"
    }
   ],
   "source": [
    "1 in mylist"
   ]
  },
  {
   "cell_type": "code",
   "execution_count": 32,
   "metadata": {},
   "outputs": [
    {
     "name": "stdout",
     "output_type": "stream",
     "text": [
      "(1, 2)\n",
      "(3, 4)\n",
      "(5, 6)\n",
      "1\n",
      "3\n",
      "5\n"
     ]
    }
   ],
   "source": [
    "#tuple unpacking\n",
    "m = [(1,2),(3,4),(5,6)]\n",
    "m[0]\n",
    "\n",
    "for item in m:\n",
    "    print(item)\n",
    "    \n",
    "for (a,b) in m:\n",
    "    print(a)"
   ]
  }
 ],
 "metadata": {
  "kernelspec": {
   "display_name": "Python 3",
   "language": "python",
   "name": "python3"
  },
  "language_info": {
   "codemirror_mode": {
    "name": "ipython",
    "version": 3
   },
   "file_extension": ".py",
   "mimetype": "text/x-python",
   "name": "python",
   "nbconvert_exporter": "python",
   "pygments_lexer": "ipython3",
   "version": "3.7.0"
  }
 },
 "nbformat": 4,
 "nbformat_minor": 2
}
